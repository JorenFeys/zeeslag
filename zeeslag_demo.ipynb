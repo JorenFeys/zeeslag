{
 "cells": [
  {
   "cell_type": "markdown",
   "id": "4060cfdb",
   "metadata": {},
   "source": [
    "# zeeslag"
   ]
  },
  {
   "cell_type": "code",
   "execution_count": 1,
   "id": "ae871432",
   "metadata": {},
   "outputs": [],
   "source": [
    "import zeeslag"
   ]
  },
  {
   "cell_type": "code",
   "execution_count": 2,
   "id": "3ee80ab6",
   "metadata": {},
   "outputs": [
    {
     "name": "stdout",
     "output_type": "stream",
     "text": [
      "  0 1\n",
      "0 . x\n",
      "1 . .\n",
      "\n",
      "Congrats!! The submarine has been destroyed!\n"
     ]
    }
   ],
   "source": [
    "zeeslag.play(2,1,4)"
   ]
  },
  {
   "cell_type": "code",
   "execution_count": null,
   "id": "79b90d87",
   "metadata": {},
   "outputs": [],
   "source": []
  }
 ],
 "metadata": {
  "kernelspec": {
   "display_name": "Python 3 (ipykernel)",
   "language": "python",
   "name": "python3"
  },
  "language_info": {
   "codemirror_mode": {
    "name": "ipython",
    "version": 3
   },
   "file_extension": ".py",
   "mimetype": "text/x-python",
   "name": "python",
   "nbconvert_exporter": "python",
   "pygments_lexer": "ipython3",
   "version": "3.9.7"
  }
 },
 "nbformat": 4,
 "nbformat_minor": 5
}
